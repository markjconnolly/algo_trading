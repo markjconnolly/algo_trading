{
 "cells": [
  {
   "cell_type": "code",
   "execution_count": 12,
   "metadata": {},
   "outputs": [
    {
     "ename": "ClientError",
     "evalue": "(429, -1003, 'Too much request weight used; current limit is 1200 request weight per 1 MINUTE. Please use WebSocket Streams for live updates to avoid polling the API.', {'Content-Type': 'application/json;charset=UTF-8', 'Content-Length': '175', 'Connection': 'keep-alive', 'Date': 'Mon, 20 Nov 2023 18:14:54 GMT', 'Server': 'nginx', 'x-mbx-uuid': '6e18e639-b4fa-4a67-8fa2-25ffd9248653', 'x-mbx-used-weight': '1201', 'x-mbx-used-weight-1m': '1201', 'retry-after': '6', 'Strict-Transport-Security': 'max-age=31536000; includeSubdomains', 'X-Frame-Options': 'SAMEORIGIN', 'X-Xss-Protection': '1; mode=block', 'X-Content-Type-Options': 'nosniff', 'Content-Security-Policy': \"default-src 'self'\", 'X-Content-Security-Policy': \"default-src 'self'\", 'X-WebKit-CSP': \"default-src 'self'\", 'Cache-Control': 'no-cache, no-store, must-revalidate', 'Pragma': 'no-cache', 'Expires': '0', 'X-Cache': 'Error from cloudfront', 'Via': '1.1 bc76669eeda01c57858bc5dbfe728b3a.cloudfront.net (CloudFront)', 'X-Amz-Cf-Pop': 'ATL59-P1', 'X-Amz-Cf-Id': 'Gb82YdUldycU8XkDYiAMxUYmoamItizdUowpbVmJhmfInswdiuN5xw=='}, None)",
     "output_type": "error",
     "traceback": [
      "\u001b[0;31m---------------------------------------------------------------------------\u001b[0m",
      "\u001b[0;31mClientError\u001b[0m                               Traceback (most recent call last)",
      "\u001b[1;32m/Users/mconn/precision_crypto/code/populate_database.ipynb Cell 1\u001b[0m line \u001b[0;36m5\n\u001b[1;32m     <a href='vscode-notebook-cell:/Users/mconn/precision_crypto/code/populate_database.ipynb#W0sZmlsZQ%3D%3D?line=47'>48</a>\u001b[0m end_timestamp \u001b[39m=\u001b[39m start_timestamp \u001b[39m+\u001b[39m interval_ms\n\u001b[1;32m     <a href='vscode-notebook-cell:/Users/mconn/precision_crypto/code/populate_database.ipynb#W0sZmlsZQ%3D%3D?line=49'>50</a>\u001b[0m \u001b[39mwhile\u001b[39;00m end_timestamp \u001b[39m<\u001b[39m current_timestamp:\n\u001b[1;32m     <a href='vscode-notebook-cell:/Users/mconn/precision_crypto/code/populate_database.ipynb#W0sZmlsZQ%3D%3D?line=50'>51</a>\u001b[0m \n\u001b[1;32m     <a href='vscode-notebook-cell:/Users/mconn/precision_crypto/code/populate_database.ipynb#W0sZmlsZQ%3D%3D?line=51'>52</a>\u001b[0m     \u001b[39m# Get k-line data in interval after max data\u001b[39;00m\n\u001b[0;32m---> <a href='vscode-notebook-cell:/Users/mconn/precision_crypto/code/populate_database.ipynb#W0sZmlsZQ%3D%3D?line=52'>53</a>\u001b[0m     k_line_data \u001b[39m=\u001b[39m client\u001b[39m.\u001b[39;49mklines(symbol, interval_code, startTime\u001b[39m=\u001b[39;49mstart_timestamp, endTime\u001b[39m=\u001b[39;49mend_timestamp, limit\u001b[39m=\u001b[39;49m\u001b[39m100\u001b[39;49m)\n\u001b[1;32m     <a href='vscode-notebook-cell:/Users/mconn/precision_crypto/code/populate_database.ipynb#W0sZmlsZQ%3D%3D?line=53'>54</a>\u001b[0m     k_line_data \u001b[39m=\u001b[39m np\u001b[39m.\u001b[39marray(k_line_data)\n\u001b[1;32m     <a href='vscode-notebook-cell:/Users/mconn/precision_crypto/code/populate_database.ipynb#W0sZmlsZQ%3D%3D?line=55'>56</a>\u001b[0m     \u001b[39m# Iterate and add to database\u001b[39;00m\n",
      "File \u001b[0;32m~/miniconda3/envs/algo_trading/lib/python3.12/site-packages/binance/spot/_market.py:166\u001b[0m, in \u001b[0;36mklines\u001b[0;34m(self, symbol, interval, **kwargs)\u001b[0m\n\u001b[1;32m    163\u001b[0m check_required_parameters([[symbol, \u001b[39m\"\u001b[39m\u001b[39msymbol\u001b[39m\u001b[39m\"\u001b[39m], [interval, \u001b[39m\"\u001b[39m\u001b[39minterval\u001b[39m\u001b[39m\"\u001b[39m]])\n\u001b[1;32m    165\u001b[0m params \u001b[39m=\u001b[39m {\u001b[39m\"\u001b[39m\u001b[39msymbol\u001b[39m\u001b[39m\"\u001b[39m: symbol, \u001b[39m\"\u001b[39m\u001b[39minterval\u001b[39m\u001b[39m\"\u001b[39m: interval, \u001b[39m*\u001b[39m\u001b[39m*\u001b[39mkwargs}\n\u001b[0;32m--> 166\u001b[0m \u001b[39mreturn\u001b[39;00m \u001b[39mself\u001b[39;49m\u001b[39m.\u001b[39;49mquery(\u001b[39m\"\u001b[39;49m\u001b[39m/api/v3/klines\u001b[39;49m\u001b[39m\"\u001b[39;49m, params)\n",
      "File \u001b[0;32m~/miniconda3/envs/algo_trading/lib/python3.12/site-packages/binance/api.py:70\u001b[0m, in \u001b[0;36mAPI.query\u001b[0;34m(self, url_path, payload)\u001b[0m\n\u001b[1;32m     69\u001b[0m \u001b[39mdef\u001b[39;00m \u001b[39mquery\u001b[39m(\u001b[39mself\u001b[39m, url_path, payload\u001b[39m=\u001b[39m\u001b[39mNone\u001b[39;00m):\n\u001b[0;32m---> 70\u001b[0m     \u001b[39mreturn\u001b[39;00m \u001b[39mself\u001b[39;49m\u001b[39m.\u001b[39;49msend_request(\u001b[39m\"\u001b[39;49m\u001b[39mGET\u001b[39;49m\u001b[39m\"\u001b[39;49m, url_path, payload\u001b[39m=\u001b[39;49mpayload)\n",
      "File \u001b[0;32m~/miniconda3/envs/algo_trading/lib/python3.12/site-packages/binance/api.py:119\u001b[0m, in \u001b[0;36mAPI.send_request\u001b[0;34m(self, http_method, url_path, payload)\u001b[0m\n\u001b[1;32m    117\u001b[0m response \u001b[39m=\u001b[39m \u001b[39mself\u001b[39m\u001b[39m.\u001b[39m_dispatch_request(http_method)(\u001b[39m*\u001b[39m\u001b[39m*\u001b[39mparams)\n\u001b[1;32m    118\u001b[0m \u001b[39mself\u001b[39m\u001b[39m.\u001b[39m_logger\u001b[39m.\u001b[39mdebug(\u001b[39m\"\u001b[39m\u001b[39mraw response from server:\u001b[39m\u001b[39m\"\u001b[39m \u001b[39m+\u001b[39m response\u001b[39m.\u001b[39mtext)\n\u001b[0;32m--> 119\u001b[0m \u001b[39mself\u001b[39;49m\u001b[39m.\u001b[39;49m_handle_exception(response)\n\u001b[1;32m    121\u001b[0m \u001b[39mtry\u001b[39;00m:\n\u001b[1;32m    122\u001b[0m     data \u001b[39m=\u001b[39m response\u001b[39m.\u001b[39mjson()\n",
      "File \u001b[0;32m~/miniconda3/envs/algo_trading/lib/python3.12/site-packages/binance/api.py:184\u001b[0m, in \u001b[0;36mAPI._handle_exception\u001b[0;34m(self, response)\u001b[0m\n\u001b[1;32m    182\u001b[0m     \u001b[39mif\u001b[39;00m \u001b[39m\"\u001b[39m\u001b[39mdata\u001b[39m\u001b[39m\"\u001b[39m \u001b[39min\u001b[39;00m err:\n\u001b[1;32m    183\u001b[0m         error_data \u001b[39m=\u001b[39m err[\u001b[39m\"\u001b[39m\u001b[39mdata\u001b[39m\u001b[39m\"\u001b[39m]\n\u001b[0;32m--> 184\u001b[0m     \u001b[39mraise\u001b[39;00m ClientError(\n\u001b[1;32m    185\u001b[0m         status_code, err[\u001b[39m\"\u001b[39m\u001b[39mcode\u001b[39m\u001b[39m\"\u001b[39m], err[\u001b[39m\"\u001b[39m\u001b[39mmsg\u001b[39m\u001b[39m\"\u001b[39m], response\u001b[39m.\u001b[39mheaders, error_data\n\u001b[1;32m    186\u001b[0m     )\n\u001b[1;32m    187\u001b[0m \u001b[39mraise\u001b[39;00m ServerError(status_code, response\u001b[39m.\u001b[39mtext)\n",
      "\u001b[0;31mClientError\u001b[0m: (429, -1003, 'Too much request weight used; current limit is 1200 request weight per 1 MINUTE. Please use WebSocket Streams for live updates to avoid polling the API.', {'Content-Type': 'application/json;charset=UTF-8', 'Content-Length': '175', 'Connection': 'keep-alive', 'Date': 'Mon, 20 Nov 2023 18:14:54 GMT', 'Server': 'nginx', 'x-mbx-uuid': '6e18e639-b4fa-4a67-8fa2-25ffd9248653', 'x-mbx-used-weight': '1201', 'x-mbx-used-weight-1m': '1201', 'retry-after': '6', 'Strict-Transport-Security': 'max-age=31536000; includeSubdomains', 'X-Frame-Options': 'SAMEORIGIN', 'X-Xss-Protection': '1; mode=block', 'X-Content-Type-Options': 'nosniff', 'Content-Security-Policy': \"default-src 'self'\", 'X-Content-Security-Policy': \"default-src 'self'\", 'X-WebKit-CSP': \"default-src 'self'\", 'Cache-Control': 'no-cache, no-store, must-revalidate', 'Pragma': 'no-cache', 'Expires': '0', 'X-Cache': 'Error from cloudfront', 'Via': '1.1 bc76669eeda01c57858bc5dbfe728b3a.cloudfront.net (CloudFront)', 'X-Amz-Cf-Pop': 'ATL59-P1', 'X-Amz-Cf-Id': 'Gb82YdUldycU8XkDYiAMxUYmoamItizdUowpbVmJhmfInswdiuN5xw=='}, None)"
     ]
    }
   ],
   "source": [
    "import numpy as np\n",
    "import datetime\n",
    "import time\n",
    "import sqlite3\n",
    "\n",
    "from binance.spot import Spot\n",
    "\n",
    "symbol = 'BTCUSDT'\n",
    "\n",
    "api_endpoint = 'https://api.binance.us'\n",
    "client = Spot(base_url=api_endpoint)\n",
    "\n",
    "interval_code = '1m'\n",
    "interval_ms = 1000*60\n",
    "\n",
    "connection = sqlite3.connect(\"../database/ticker_data.db\")\n",
    "with connection:\n",
    "    cursor = connection.cursor()\n",
    "\n",
    "sql_max_time_spec = '''SELECT MAX(ticker_time) FROM spot_entry WHERE symbol = ?'''\n",
    "sql_check_spec = '''SELECT COUNT(*) FROM spot_entry WHERE symbol = ? and ticker_time = ?'''\n",
    "sql_insert_spec = '''INSERT INTO spot_entry(symbol, ticker_time, open_price, close_price, min_price, max_price, volume)\n",
    "        VALUES(?, ?, ?, ?, ?, ?, ?)'''\n",
    "\n",
    "sql_max_time_val = (symbol,)\n",
    "\n",
    "# Get the current time\n",
    "current_datetime = datetime.datetime.now()\n",
    "current_timestamp = time.mktime(current_datetime.timetuple()) * 1000 # In milliseconds \n",
    "current_timestamp = int(current_timestamp)\n",
    "\n",
    "# Start from the end of the current record\n",
    "# Get the max time in the database for this symbol and calculate end time\n",
    "sql_max_time_val = (symbol,)\n",
    "cursor.execute(sql_max_time_spec, sql_max_time_val)\n",
    "start_timestamp = cursor.fetchall()\n",
    "start_timestamp = start_timestamp[0][0]\n",
    "\n",
    "# Start from an arbitary date\n",
    "# start_year = 2023\n",
    "# start_month = 1\n",
    "# start_day = 1\n",
    "\n",
    "# start_datetime = datetime.datetime(start_year, start_month, start_day)\n",
    "# start_timestamp = time.mktime(start_datetime.timetuple()) * 1000 # In milliseconds \n",
    "# start_timestamp = int(start_timestamp) \n",
    "\n",
    "end_timestamp = start_timestamp + interval_ms\n",
    "\n",
    "while end_timestamp < current_timestamp:\n",
    "\n",
    "    # Get k-line data in interval after max data\n",
    "    k_line_data = client.klines(symbol, interval_code, startTime=start_timestamp, endTime=end_timestamp, limit=100)\n",
    "    k_line_data = np.array(k_line_data)\n",
    "\n",
    "    # Iterate and add to database\n",
    "    for k_line in k_line_data:   \n",
    "        ticker_time = k_line[0]\n",
    "        sql_check_val = (symbol,) + (ticker_time,)\n",
    "\n",
    "        cursor.execute(sql_check_spec, sql_check_val)\n",
    "        counts = cursor.fetchall()\n",
    "        \n",
    "        # Do not add if a row with this symbol and timestamp exists, \n",
    "        if not counts[0][0]:\n",
    "            sql_insert_val = (symbol,) + tuple(k_line[[0, 1, 4, 3, 2, 5]])\n",
    "            cursor.execute(sql_insert_spec, sql_insert_val)\n",
    "\n",
    "    cursor.execute(sql_max_time_spec, sql_max_time_val)\n",
    "    start_timestamp = cursor.fetchall()[0][0]\n",
    "    end_timestamp = start_timestamp + interval_ms\n",
    "    connection.commit()\n",
    "\n",
    "    time.sleep(1)\n",
    "\n",
    "cursor.close()\n",
    "\n",
    "\n",
    "\n",
    "\n"
   ]
  },
  {
   "cell_type": "code",
   "execution_count": null,
   "metadata": {},
   "outputs": [
    {
     "ename": "",
     "evalue": "",
     "output_type": "error",
     "traceback": [
      "\u001b[1;31mnotebook controller is DISPOSED. \n",
      "\u001b[1;31mView Jupyter <a href='command:jupyter.viewOutput'>log</a> for further details."
     ]
    },
    {
     "ename": "",
     "evalue": "",
     "output_type": "error",
     "traceback": [
      "\u001b[1;31mnotebook controller is DISPOSED. \n",
      "\u001b[1;31mView Jupyter <a href='command:jupyter.viewOutput'>log</a> for further details."
     ]
    }
   ],
   "source": []
  }
 ],
 "metadata": {
  "kernelspec": {
   "display_name": "algo_trading",
   "language": "python",
   "name": "python3"
  },
  "language_info": {
   "codemirror_mode": {
    "name": "ipython",
    "version": 3
   },
   "file_extension": ".py",
   "mimetype": "text/x-python",
   "name": "python",
   "nbconvert_exporter": "python",
   "pygments_lexer": "ipython3",
   "version": "3.12.0"
  }
 },
 "nbformat": 4,
 "nbformat_minor": 2
}
